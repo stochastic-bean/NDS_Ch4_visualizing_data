{
 "cells": [
  {
   "cell_type": "markdown",
   "id": "08ec7136-5704-46b7-9255-c05bdfe2142f",
   "metadata": {
    "tags": []
   },
   "source": [
    "# Accessibility and Human Factors in Plotting\n",
    "\n",
    "Whenever you are generating plots to go into a paper or a presentation, there are a few things you can do to make sure that everyone can understand your plots:\n",
    "\n",
    "## Always make sure your text is large enough to read. \n",
    "\n",
    "- In Matplotlib `plot` commands, Use the `fontsize` parameter in `xlabel`, `ylabel`, `title`, and `legend`, and `tick_params` with `labelsize` to increase the text size of the numbers on your axes.\n",
    "\n",
    "## Make graph elements easy to see    \n",
    "- Similarly, you should make the lines and symbols in your plots themselves big enough to see comfortably. In Matplotlib `plot` commands, you can use `s` to increase the size of your scatterplot markers and `linewidth` to increase the sizes of your plot lines.\n",
    "\n",
    "## Seaborn contexts\n",
    "Seaborn provides a convenient way to scale both text and plot elements all at once, with the `sns.set_context()` function. \"Contexts\" are different contexts in which you might want to use a plot, such as in a paper versus a slide presentation or conference poster. \n",
    "\n",
    "<div class=\"alert alert-block alert-info\">\n",
    "If you import seaborn and run `sns.set_context()`, it affects *all* Matplotlib plots, not just those made with seaborn. \n",
    "    </div>\n",
    "    \n",
    "Here's some code to plot some sine waves using Matplotlib\n",
    "\n",
    "~~~python\n",
    "import seaborn as sns \n",
    "import numpy as np\n",
    "import matplotlib.pyplot as plt\n",
    "\n",
    "# A simple function for plotting sine waves\n",
    "def sinplot(flip=1):\n",
    "    x = np.linspace(0, 14, 100)\n",
    "    for i in range(1, 7):\n",
    "        plt.plot(x, np.sin(x + i * .5) * (7 - i) * flip)\n",
    "~~~"
   ]
  },
  {
   "cell_type": "code",
   "execution_count": null,
   "id": "15e7bd11-9e10-4f1b-8e12-a778c3beebd1",
   "metadata": {},
   "outputs": [],
   "source": []
  },
  {
   "cell_type": "markdown",
   "id": "ed0866a3-4968-4637-addb-c94e6ce155d5",
   "metadata": {},
   "source": [
    "### Plot with default styling; no seaborn context\n",
    "\n",
    "~~~python\n",
    "sinplot()\n",
    "~~~"
   ]
  },
  {
   "cell_type": "code",
   "execution_count": null,
   "id": "ea3fd38d-9851-441f-88bd-9bbf3ce8e2b8",
   "metadata": {},
   "outputs": [],
   "source": []
  },
  {
   "cell_type": "markdown",
   "id": "ae8f44da-94bc-490f-94ba-7f8a111d4cd1",
   "metadata": {
    "tags": []
   },
   "source": [
    "### Plot with `paper` context\n",
    "\n",
    "~~~python\n",
    "sns.set_context(\"paper\")\n",
    "sinplot()\n",
    "~~~"
   ]
  },
  {
   "cell_type": "code",
   "execution_count": null,
   "id": "788bc221-3706-438e-a7c5-66ad09470a8f",
   "metadata": {},
   "outputs": [],
   "source": []
  },
  {
   "cell_type": "markdown",
   "id": "84b7a3d2-33aa-46aa-887b-b57f73a623a7",
   "metadata": {},
   "source": [
    "### Plot with `talk` context\n",
    "\n",
    "~~~python\n",
    "sns.set_context(\"talk\")\n",
    "sinplot()\n",
    "~~~"
   ]
  },
  {
   "cell_type": "code",
   "execution_count": null,
   "id": "6c6c4c26-4360-4b27-bac6-7e3ed5ef4b94",
   "metadata": {},
   "outputs": [],
   "source": []
  },
  {
   "cell_type": "markdown",
   "id": "91c40498-7eb2-4e23-9da1-bc607ff45228",
   "metadata": {},
   "source": [
    "### Plot with `poster` context\n",
    "\n",
    "~~~python\n",
    "sns.set_context(\"poster\")\n",
    "sinplot()\n",
    "~~~"
   ]
  },
  {
   "cell_type": "code",
   "execution_count": null,
   "id": "b5529776-1771-4bb0-a5b8-fefee736a4cf",
   "metadata": {},
   "outputs": [],
   "source": []
  },
  {
   "cell_type": "markdown",
   "id": "43de9bea-1ff0-46d1-9c3e-592de63a3f25",
   "metadata": {
    "tags": []
   },
   "source": [
    "## Consider colourblindness\n",
    "\n",
    "A non-negligible proportion of the population has some form of colourblindness. Human colour perception relies on our having three different types of cone cells in our retinas. It is estimated that 8% of males (1 in 12) have some form of colourblindness, typically a genetic absence of one of these cone types. Colourblindness is caused by a recessive gene on the X chromosome, so it is far less common for females to have it. So if you anticipate that, say, even 50 people view a graph you make, the odds are that 2 or more of them will have some form of colourblindness. Or put another way, if there are 20 people enrolled in this class, there is likely at least one colourblind student. \n",
    "\n",
    "Colourblindness can range from mild forms (common) such as deuteranopia and protanopia (missing green or red cones, respectively; inability to distinguish red and green), and tritanopoa (missing blue cones) to complete achromatopsia (rare). \n",
    "\n",
    "**Using color (and nothing else) to distinguish between different plot elements (like lines representing different categories) may make your plots *unreadable* to anyone who is colorblind**. For lines, the `linestyle` parameter lets you use different types of lines. For scatterplots, `marker` lets you change the shape of your points for different categories. \n",
    "\n",
    "It's worth trying out [Coblis](https://www.color-blindness.com/coblis-color-blindness-simulator/) or [Color Oracle](https://colororacle.org/) to simulate what your plots (or any other image) would look like to those with colorblindness. This can be educational, and also a useful tool to check your plots. However, there are many colour palettes available in Matplotlib and Seaborn (including the defaults) that are designed to be distinguishable even by people with mild colourblindness. Install Color Oracle on your computer and view this page, and see what the Seaborn plots above look. like! \n",
    "\n",
    "Matplotlib has an [excellent page](https://matplotlib.org/stable/tutorials/colors/colormaps.html) on choosing colormaps. \n",
    "\n",
    "But as usual, Seaborn provides an even simpler option. It's default colour palette is quite robust to different forms of colourblindness (i.e., most hues are distinguishable from each other), and it also offers a `colorblind` palette that is a slightly-adjusted version of the default that makes the hues even more distinguishable. Seaborn's developer, Markus Waksom, also provides [a page simulating what the Seaborn palettes look like with different forms of colourblindness](https://gist.github.com/mwaskom/b35f6ebc2d4b340b4f64a4e28e778486).\n",
    "\n",
    "\n",
    "~~~python\n",
    "sns.set_palette('colorblind')\n",
    "sinplot()\n",
    "~~~"
   ]
  },
  {
   "cell_type": "code",
   "execution_count": null,
   "id": "42f546fa-94fb-4757-abb6-5f5b490ee982",
   "metadata": {},
   "outputs": [],
   "source": []
  },
  {
   "cell_type": "markdown",
   "id": "fbabbb64-f24e-44e4-9136-1bb1e4545c54",
   "metadata": {},
   "source": [
    "Note that once you've run `sns.set_context()` and/or `sns.set_palette()`, the setting apply to *all* further plots until you change the settings by running those commands again (or restarting the kernel)\n",
    "\n",
    "~~~python\n",
    "sinplot()\n",
    "~~~"
   ]
  },
  {
   "cell_type": "code",
   "execution_count": null,
   "id": "6b70b37b-7b50-458f-87bc-0ae69eff488c",
   "metadata": {},
   "outputs": [],
   "source": []
  },
  {
   "cell_type": "markdown",
   "id": "a2f7ba1b-77a9-4840-ae19-337b9e180538",
   "metadata": {},
   "source": [
    "So we have to explicitly change the context and/or palette again to get new plot parameters:\n",
    "~~~python\n",
    "sns.set_palette('bright')\n",
    "sns.set_context('paper')\n",
    "sinplot()\n",
    "~~~"
   ]
  },
  {
   "cell_type": "code",
   "execution_count": null,
   "id": "c9b561ad-e3f3-4aae-849a-1fd8c068c38d",
   "metadata": {},
   "outputs": [],
   "source": []
  }
 ],
 "metadata": {
  "kernelspec": {
   "display_name": "Python 3",
   "language": "python",
   "name": "python3"
  },
  "language_info": {
   "codemirror_mode": {
    "name": "ipython",
    "version": 3
   },
   "file_extension": ".py",
   "mimetype": "text/x-python",
   "name": "python",
   "nbconvert_exporter": "python",
   "pygments_lexer": "ipython3",
   "version": "3.8.8"
  },
  "toc-autonumbering": false,
  "toc-showmarkdowntxt": true,
  "toc-showtags": false
 },
 "nbformat": 4,
 "nbformat_minor": 5
}
