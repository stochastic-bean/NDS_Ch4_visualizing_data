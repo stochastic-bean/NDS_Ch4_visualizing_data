{
 "cells": [
  {
   "cell_type": "markdown",
   "id": "da4c5fc3-b931-4748-8e75-c315c68b2512",
   "metadata": {},
   "source": [
    "# Subplots\n",
    "---\n",
    "\n",
    "## Questions\n",
    "- How can I make a figure containing more than one plot?\n",
    "\n",
    "## Learning Objectives\n",
    "- Generate figures with subplots, using object-oriented plotting in Matplotlib\n",
    "- Modify properties of figures subplots, such as size and layout"
   ]
  },
  {
   "cell_type": "markdown",
   "id": "907a8f6c-9ded-42a5-8a6b-7542b84e5c16",
   "metadata": {},
   "source": [
    "## Introduction\n",
    "\n",
    "A great feature of Matplotlib is that you can create a single figure with multiple panels, or subplots. We'll get lots of practice doing this in the section on single unit data. \n",
    "\n",
    "As you might have intuited, the `plt.subplots()` function can be used to create a figure with multiple subplots. It's default is to create a single (sub)plot, but we can create more subplots by passing arguments indicating the number of rows and columns of subplots we want (thinking of subplots as a 2D grid). \n",
    "\n",
    "For example, to create a figure with one row and two columns of subplots, we would use:\n",
    "~~~python\n",
    "fig, axs = plt.subplots(nrows=1, ncols=2)\n",
    "~~~\n"
   ]
  },
  {
   "cell_type": "code",
   "execution_count": null,
   "id": "2195e681",
   "metadata": {},
   "outputs": [],
   "source": []
  },
  {
   "cell_type": "markdown",
   "id": "8c07ec41",
   "metadata": {},
   "source": [
    "\n",
    "You can actually omit the `nrows=` and `ncols=` kwargs, and just use:\n",
    "~~~python\n",
    "fig, axs = plt.subplots(1, 2)\n",
    "~~~\n"
   ]
  },
  {
   "cell_type": "code",
   "execution_count": null,
   "id": "50e7b313",
   "metadata": {},
   "outputs": [],
   "source": []
  },
  {
   "cell_type": "markdown",
   "id": "f4af6801",
   "metadata": {},
   "source": [
    "\n",
    "Matplotlib assumes the first two arguments are the number of subplot rows and columns. This is more compact code, although less transparent/explicit than using `nrows=` and `ncols=`\n",
    "\n",
    "Note that in the above examples, we have replaced `ax` with `axs`. This is a convention, not a requirement, but it makes explicit the fact that the `ax` variable now contains multiple axes objects, which is how we specify which subplot to draw into with any command.\n",
    "\n",
    "Try running the following code, which will generate a figure with two subplots, and print out what the `axs` object contains:\n",
    "\n",
    "~~~python\n",
    "import matplotlib.pyplot as plt\n",
    "x = range(0, 10)\n",
    "y = range(0, 10)\n",
    "\n",
    "fig, axs = plt.subplots(nrows=1, ncols=2)\n",
    "print(axs)\n",
    "~~~"
   ]
  },
  {
   "cell_type": "code",
   "execution_count": null,
   "id": "24e0068d-7972-4402-9858-fb0166558b52",
   "metadata": {},
   "outputs": [],
   "source": []
  },
  {
   "cell_type": "markdown",
   "id": "2034ad91-9586-43bc-ad74-046aeb88b21a",
   "metadata": {},
   "source": [
    "The output is a little confusing because the `plt.subplots()` function generates an empty plot, but this appears under the result of printing the `axs`, even though the plot command was run first. \n",
    "\n",
    "Regardless, note that the `axs` object contains two `AxesSubplot` objects. This means that to access (and draw into) one of these obejcts, we can use indexing on `axs`. For example, to draw into the first subplot, we can use `axs[0]`:\n",
    "\n",
    "~~~python\n",
    "fig, axs = plt.subplots(nrows=1, ncols=2)\n",
    "axs[0].plot(x, y)\n",
    "plt.show()\n",
    "~~~"
   ]
  },
  {
   "cell_type": "code",
   "execution_count": null,
   "id": "fe867c9a-a28e-4853-9447-0cec8d0084f1",
   "metadata": {},
   "outputs": [],
   "source": []
  },
  {
   "cell_type": "markdown",
   "id": "357b01d5-c3be-497e-bc14-2d884079d9f4",
   "metadata": {},
   "source": [
    "To draw into the second subplot, we use `axs[1]`:\n",
    "\n",
    "~~~python\n",
    "# Generate different data for second plot, going from 9 to 0\n",
    "y2 = list(reversed(range(10)))\n",
    "\n",
    "fig, axs = plt.subplots(nrows=1, ncols=2)\n",
    "axs[0].plot(x, y)\n",
    "axs[1].plot(x, y2)\n",
    "plt.show()\n",
    "~~~"
   ]
  },
  {
   "cell_type": "code",
   "execution_count": null,
   "id": "33b84ea9-7172-4dac-8339-31850e9e13c5",
   "metadata": {},
   "outputs": [],
   "source": []
  },
  {
   "cell_type": "markdown",
   "id": "ed481442-9017-49d9-8202-90f73b823763",
   "metadata": {},
   "source": [
    "We can modify properties of each subplot separately, using their `axs` indices. We can also modify properties of the entire figure (such as an overall title) using `fig.` methods:\n",
    "\n",
    "~~~python\n",
    "fig, axs = plt.subplots(nrows=1, ncols=2)\n",
    "\n",
    "# First subplot\n",
    "axs[0].plot(x, y)\n",
    "axs[0].set_title('Positive correlation')\n",
    "\n",
    "# Second subplot\n",
    "axs[1].plot(x, y2)\n",
    "axs[1].set_title('Negative correlation')\n",
    "\n",
    "# Set overall figure title\n",
    "fig.suptitle('Two types of perfect correlations')\n",
    "\n",
    "plt.show()\n",
    "~~~"
   ]
  },
  {
   "cell_type": "code",
   "execution_count": null,
   "id": "956d7fc2-810e-4deb-b748-9261483fae72",
   "metadata": {},
   "outputs": [],
   "source": []
  },
  {
   "cell_type": "markdown",
   "id": "0ffdcdba-79dc-410c-b021-30d9dcdc5b96",
   "metadata": {},
   "source": [
    "## 2D subplots\n",
    "\n",
    "When you have a figure with multiple rows and columns of subplots, the indexing of `AxesSubplot` objects is two-dimensional. This is similar to indexing a pandas DataFrame, where we might specify a position with [row, column] indexing (e.g., `df.iloc[1, 2]` to get the second row, third column).\n",
    "\n",
    "The only tricky thing about this is that if you have a one-dimensional figure (i.e., one row and multiple columns, or one column and multiple rows), you only need to use a single index (the column or row position, respectively), as shown in the examples above. However, as soon as you generate a figure with multiple rows *and* columns, you need to use two-dimensional indexing. \n",
    "\n",
    "So for example, with one column but two rows, we can use the following:\n",
    "\n",
    "~~~python\n",
    "fig, axs = plt.subplots(nrows=2, ncols=1)\n",
    "\n",
    "# First subplot\n",
    "axs[0].plot(x, y)\n",
    "axs[0].set_title('Positive correlation')\n",
    "\n",
    "# Second subplot\n",
    "axs[1].plot(x, y2)\n",
    "axs[1].set_title('Negative correlation')\n",
    "\n",
    "plt.show()\n",
    "~~~"
   ]
  },
  {
   "cell_type": "code",
   "execution_count": null,
   "id": "d7e2a9fe-7d14-4d36-b804-90351427622b",
   "metadata": {},
   "outputs": [],
   "source": []
  },
  {
   "cell_type": "markdown",
   "id": "98cdcad0-87b2-42cd-997e-238715135c36",
   "metadata": {},
   "source": [
    "But when we have two rows *and* two columns, we need to use 2D indexing:\n",
    "\n",
    "~~~python\n",
    "fig, axs = plt.subplots(nrows=2, ncols=3)\n",
    "\n",
    "# First subplot\n",
    "axs[0, 0].plot(x, y)\n",
    "axs[0, 0].set_title('Positive correlation')\n",
    "\n",
    "# Second subplot\n",
    "axs[0, 1].plot(x, y2)\n",
    "axs[0, 1].set_title('Negative correlation')\n",
    "\n",
    "plt.show()\n",
    "~~~"
   ]
  },
  {
   "cell_type": "code",
   "execution_count": null,
   "id": "4dad1c97-edd5-4205-8333-b9122df10b17",
   "metadata": {},
   "outputs": [],
   "source": []
  },
  {
   "cell_type": "markdown",
   "id": "becbc96a-fdfc-4d08-911d-f295c38c3030",
   "metadata": {},
   "source": [
    "## Basic Formatting with subplots\n",
    "\n",
    "### Figure size\n",
    "You might have noticed two annoying things about the above figures with subplots. Firstly, the subplots aren't square, but our *x* and *y* axes cover the same range, so ideally they would be of the same length in the plot. We can set the figure size with an additional `figsize` kwarg to `plt.subplots()`, giving it a list of `[width, height]`. Note that this specifies the width and height of the entire figure. So in the example below, since we are plotting two rows and one column, we make the height double the width:\n",
    "\n",
    "~~~python\n",
    "fig, axs = plt.subplots(nrows=2, ncols=1, figsize=[5, 10])\n",
    "~~~\n",
    "\n",
    "This can require some trial-and-error, because the height in this case also includes the plot titles, so the results will not look perfectly square.\n"
   ]
  },
  {
   "cell_type": "code",
   "execution_count": null,
   "id": "f14e0bf4",
   "metadata": {},
   "outputs": [],
   "source": []
  },
  {
   "cell_type": "markdown",
   "id": "e511729f",
   "metadata": {},
   "source": [
    "\n",
    "### Avoiding overlap\n",
    "The other annoying thing is that, specifically in the two-row-one-column plot above, the title of the bottom subplot overlaps with the tick labels for the top *x* axis. Matplotlib has a handy function that automatically corrects this in most cases:\n",
    "\n",
    "~~~python\n",
    "plt.tight_layout()\n",
    "~~~\n",
    "\n",
    "To put this altogether, try the following:\n",
    "~~~python\n",
    "fig, axs = plt.subplots(nrows=2, ncols=1, figsize=[5, 10])\n",
    "\n",
    "# First subplot\n",
    "axs[0].plot(x, y)\n",
    "axs[0].set_title('Positive correlation')\n",
    "\n",
    "# Second subplot\n",
    "axs[1].plot(x, y2)\n",
    "axs[1].set_title('Negative correlation')\n",
    "\n",
    "plt.tight_layout()\n",
    "plt.show()\n",
    "~~~"
   ]
  },
  {
   "cell_type": "code",
   "execution_count": null,
   "id": "688bd95f-1953-438e-a0f1-7ebfa914a284",
   "metadata": {},
   "outputs": [],
   "source": []
  },
  {
   "cell_type": "markdown",
   "id": "e7ce4499-dfdf-4346-b8a5-7747f6a4628d",
   "metadata": {},
   "source": [
    "---\n",
    "## Summary of Key Points\n",
    "- Using `plt.subplots()`, we can generate figures containing multiple subplots\n",
    "- The number of rows and columns of subplots in a figure is set by the `nrows=` and `ncols=` kwargs, or alternatively just providing the number of rows and columns as the first arguments to `plt.subplots()`\n",
    "- When creating a figure with subplots, it's good practice to assign the result to `fig, axs` rather than `fig, ax`, to reflect the fact that `axs` is an object containing all of the axes\n",
    "- The different axes of a subplot are accessed (such as for drawing into, or modifying properties) using indexing, as in `axs[0]`\n",
    "- If a figure's layout is two-dimensional (i.e., > 1 rows and > 1 columns), then two-dimensional indexing is required for axes (e.g., `axs[0, 1]`)\n",
    "- The figure's overall size is set by the `figsize=` kwarg to `plt.subplots()`\n",
    "- Avoid overlapping elements in subplots by running `plt.tight_layout()` right before `plt.show()`"
   ]
  }
 ],
 "metadata": {
  "kernelspec": {
   "display_name": "Python 3",
   "language": "python",
   "name": "python3"
  },
  "language_info": {
   "codemirror_mode": {
    "name": "ipython",
    "version": 3
   },
   "file_extension": ".py",
   "mimetype": "text/x-python",
   "name": "python",
   "nbconvert_exporter": "python",
   "pygments_lexer": "ipython3",
   "version": "3.8.8"
  }
 },
 "nbformat": 4,
 "nbformat_minor": 5
}
